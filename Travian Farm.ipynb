{
 "cells": [
  {
   "cell_type": "code",
   "execution_count": null,
   "id": "b6c36109",
   "metadata": {},
   "outputs": [],
   "source": [
    "from selenium import webdriver\n",
    "from selenium.webdriver.common.by import By\n",
    "import pickle\n",
    "import webbrowser"
   ]
  },
  {
   "cell_type": "code",
   "execution_count": null,
   "id": "5f8b0e93",
   "metadata": {},
   "outputs": [],
   "source": [
    "# start web browser\n",
    "browser=webdriver.Firefox()"
   ]
  },
  {
   "cell_type": "code",
   "execution_count": null,
   "id": "b22c495c",
   "metadata": {
    "scrolled": true
   },
   "outputs": [],
   "source": [
    "# If there is error, no ad appeared. Try again.\n",
    "\n",
    "url = \"https://www.inactivesearch.it/inactives/ts3.x1.international.travian.com?c=%2888%7C-46%29\" #(88-46)\n",
    "browser.get(url)\n",
    "\n",
    "#page = browser.find_element(By.XPATH, '/html/body/div[2]/div[4]/div/div[1]/form/ul/li[5]')\n",
    "page = browser.find_element(By.XPATH, '/html/body/div[1]/div[3]/div/div[1]/form/ul/li[5]')\n",
    "\n",
    "end_page = int(page.text.split(\"/\")[1])"
   ]
  },
  {
   "cell_type": "code",
   "execution_count": null,
   "id": "745e263a-f75f-434e-bd11-f72a0e44223f",
   "metadata": {},
   "outputs": [],
   "source": [
    "end_page"
   ]
  },
  {
   "cell_type": "code",
   "execution_count": null,
   "id": "b38bff06",
   "metadata": {},
   "outputs": [],
   "source": [
    "farm_links = []\n",
    "\n",
    "for i in range(1,end_page+1):\n",
    "    \n",
    "    url = \"https://www.inactivesearch.it/inactives/ts3.x1.international.travian.com?c=88|-46&page=\" + str(i)\n",
    "    browser.get(url)\n",
    "    \n",
    "    body = browser.find_element(By.TAG_NAME, 'tbody')\n",
    "    links = body.find_elements(By.XPATH, '//td[3]/a')\n",
    "    \n",
    "    for link in links:\n",
    "        link_str = link.get_attribute('href')\n",
    "        farm_links.append(link_str[:4] + \"s\" + link_str[4:])\n",
    "print(len(farm_links))"
   ]
  },
  {
   "cell_type": "code",
   "execution_count": null,
   "id": "d381e35f",
   "metadata": {},
   "outputs": [],
   "source": [
    "url = \"https://ts3.x1.international.travian.com/build.php?id=39&gid=16&tt=99\" # farm list\n",
    "browser.get(url)\n",
    "\n",
    "containers = browser.find_elements(By.CLASS_NAME, 'expandCollapse')\n",
    "\n",
    "active_farm_links = []\n",
    "\n",
    "for container in containers:\n",
    "    container.click()\n",
    "\n",
    "bodies = browser.find_elements(By.TAG_NAME, 'tbody')\n",
    "\n",
    "for body in bodies:\n",
    "    targets = body.find_elements(By.CLASS_NAME, 'target')\n",
    "\n",
    "    for target in targets:\n",
    "        link = target.find_element(By.TAG_NAME, 'a')\n",
    "        active_farm_links.append(link.get_attribute('href'))"
   ]
  },
  {
   "cell_type": "code",
   "execution_count": null,
   "id": "945bc092",
   "metadata": {
    "scrolled": true
   },
   "outputs": [],
   "source": [
    "len(active_farm_links)"
   ]
  },
  {
   "cell_type": "code",
   "execution_count": null,
   "id": "f7c29ca5",
   "metadata": {},
   "outputs": [],
   "source": [
    "new_farm_list = []\n",
    "for i in range(len(farm_links)):\n",
    "    farm = farm_links[i]\n",
    "    if farm not in active_farm_links:\n",
    "        new_farm_list.append(farm)"
   ]
  },
  {
   "cell_type": "code",
   "execution_count": null,
   "id": "5ec0de0a",
   "metadata": {
    "scrolled": true
   },
   "outputs": [],
   "source": [
    "len(new_farm_list)"
   ]
  },
  {
   "cell_type": "code",
   "execution_count": null,
   "id": "51535c48",
   "metadata": {},
   "outputs": [],
   "source": [
    "with open(\"farm.pkl\", \"wb\") as tf:\n",
    "    pickle.dump(new_farm_list,tf)"
   ]
  },
  {
   "cell_type": "code",
   "execution_count": null,
   "id": "c4e29ade",
   "metadata": {},
   "outputs": [],
   "source": []
  },
  {
   "cell_type": "code",
   "execution_count": null,
   "id": "f512ce80",
   "metadata": {},
   "outputs": [],
   "source": [
    "# Load\n",
    "with open(\"farm.pkl\", \"rb\") as tf:\n",
    "    data = pickle.load(tf)"
   ]
  },
  {
   "cell_type": "code",
   "execution_count": null,
   "id": "04f52a0e",
   "metadata": {},
   "outputs": [],
   "source": [
    "filtered_links = []\n",
    "for link in data[525:550]:\n",
    "    browser.get(link)\n",
    "    page = browser.find_element(By.CLASS_NAME, 'titleInHeader')\n",
    "    if 'Abandoned valley' not in page.text:\n",
    "        filtered_links.append(link)\n",
    "\n",
    "for link in filtered_links:\n",
    "    webbrowser.open(link)  "
   ]
  },
  {
   "cell_type": "code",
   "execution_count": null,
   "id": "f6a0e53e-b047-4b48-ab6e-9661b5acf40e",
   "metadata": {},
   "outputs": [],
   "source": []
  },
  {
   "cell_type": "code",
   "execution_count": 1,
   "id": "1e1b3181",
   "metadata": {},
   "outputs": [],
   "source": [
    "# AUTO FARM"
   ]
  },
  {
   "cell_type": "code",
   "execution_count": 1,
   "id": "6969cd63",
   "metadata": {},
   "outputs": [],
   "source": [
    "from selenium import webdriver\n",
    "from selenium.webdriver.common.by import By\n",
    "import pickle\n",
    "import webbrowser\n",
    "import time"
   ]
  },
  {
   "cell_type": "code",
   "execution_count": 2,
   "id": "bc0d7c53",
   "metadata": {},
   "outputs": [],
   "source": [
    "# start web browser\n",
    "browser=webdriver.Firefox()"
   ]
  },
  {
   "cell_type": "code",
   "execution_count": 5,
   "id": "1333daa0",
   "metadata": {},
   "outputs": [],
   "source": [
    "url = \"https://ts3.x1.international.travian.com/build.php?id=39&gid=16&tt=99\" # farm list\n",
    "browser.get(url)"
   ]
  },
  {
   "cell_type": "code",
   "execution_count": null,
   "id": "5bb523e3",
   "metadata": {},
   "outputs": [
    {
     "name": "stdout",
     "output_type": "stream",
     "text": [
      "1 raid sent\n",
      "2 raid sent\n",
      "3 raid sent\n",
      "4 raid sent\n",
      "5 raid sent\n",
      "6 raid sent\n",
      "Something bad happened restarting!!!\n",
      "7 raid sent\n",
      "Something bad happened restarting!!!\n",
      "8 raid sent\n",
      "9 raid sent\n",
      "10 raid sent\n",
      "11 raid sent\n",
      "12 raid sent\n",
      "13 raid sent\n",
      "14 raid sent\n",
      "15 raid sent\n",
      "16 raid sent\n",
      "17 raid sent\n",
      "18 raid sent\n",
      "19 raid sent\n",
      "20 raid sent\n"
     ]
    }
   ],
   "source": [
    "i = 1\n",
    "while True:\n",
    "    farm_list = browser.find_elements(By.ID, 'content')\n",
    "    buttons = farm_list[0].find_elements(By.CLASS_NAME, 'textButtonV1')\n",
    "\n",
    "    wait_time = True\n",
    "    \n",
    "    for button in buttons:     \n",
    "        try:\n",
    "            button.click()\n",
    "            time.sleep(0.3)\n",
    "        except:\n",
    "            wait_time = False\n",
    "            browser.refresh()\n",
    "            print(\"Something bad happened restarting!!!\")\n",
    "            break\n",
    "            \n",
    "    if wait_time:\n",
    "        print(i , \"raid sent\")\n",
    "        i = i + 1\n",
    "        time.sleep(150)"
   ]
  },
  {
   "cell_type": "code",
   "execution_count": null,
   "id": "04d3040d",
   "metadata": {},
   "outputs": [],
   "source": []
  }
 ],
 "metadata": {
  "kernelspec": {
   "display_name": "Python 3 (ipykernel)",
   "language": "python",
   "name": "python3"
  },
  "language_info": {
   "codemirror_mode": {
    "name": "ipython",
    "version": 3
   },
   "file_extension": ".py",
   "mimetype": "text/x-python",
   "name": "python",
   "nbconvert_exporter": "python",
   "pygments_lexer": "ipython3",
   "version": "3.9.10"
  }
 },
 "nbformat": 4,
 "nbformat_minor": 5
}
